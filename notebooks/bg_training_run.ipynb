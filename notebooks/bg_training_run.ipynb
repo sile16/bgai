{
  "nbformat": 4,
  "nbformat_minor": 0,
  "metadata": {
    "colab": {
      "provenance": [],
      "gpuType": "V28",
      "authorship_tag": "ABX9TyNzktEqv2pcpe22OSejjXbE",
      "include_colab_link": true
    },
    "kernelspec": {
      "name": "python3",
      "display_name": "Python 3"
    },
    "language_info": {
      "name": "python"
    },
    "accelerator": "TPU"
  },
  "cells": [
    {
      "cell_type": "markdown",
      "metadata": {
        "id": "view-in-github",
        "colab_type": "text"
      },
      "source": [
        "<a href=\"https://colab.research.google.com/github/sile16/bgai/blob/main/bg_training_run.ipynb\" target=\"_parent\"><img src=\"https://colab.research.google.com/assets/colab-badge.svg\" alt=\"Open In Colab\"/></a>"
      ]
    },
    {
      "cell_type": "markdown",
      "source": [
        "# Hello World, TurboZero Backgammon 🏁"
      ],
      "metadata": {
        "id": "t09halfxry1M"
      }
    },
    {
      "cell_type": "code",
      "source": [
        "# prompt: ERROR: Could not install packages due to an OSError: [Errno 2] No such file or directory: '/tmp/pgx'\n",
        "\n",
        "%pip install --upgrade pip\n",
        "%pip install -U git+https://github.com/sile16/pgx.git@master\n",
        "\n"
      ],
      "metadata": {
        "colab": {
          "base_uri": "https://localhost:8080/"
        },
        "collapsed": true,
        "id": "IfStBtc8l_ke",
        "outputId": "ba96af27-11be-4ac9-9704-3508849357d7"
      },
      "execution_count": 2,
      "outputs": [
        {
          "output_type": "stream",
          "name": "stdout",
          "text": [
            "Requirement already satisfied: pip in /usr/local/lib/python3.11/dist-packages (25.0.1)\n",
            "Collecting git+https://github.com/sile16/pgx.git@master\n",
            "  Cloning https://github.com/sile16/pgx.git (to revision master) to /tmp/pip-req-build-44gnha60\n",
            "  Running command git clone --filter=blob:none --quiet https://github.com/sile16/pgx.git /tmp/pip-req-build-44gnha60\n",
            "  Running command git checkout -b master --track origin/master\n",
            "  Switched to a new branch 'master'\n",
            "  Branch 'master' set up to track remote branch 'master' from 'origin'.\n",
            "  Resolved https://github.com/sile16/pgx.git to commit 224c8e556f3f33ad5e4b4d89a56ed85d660b6155\n",
            "  Running command git submodule update --init --recursive -q\n",
            "  Installing build dependencies ... \u001b[?25l\u001b[?25hdone\n",
            "  Getting requirements to build wheel ... \u001b[?25l\u001b[?25hdone\n",
            "  Preparing metadata (pyproject.toml) ... \u001b[?25l\u001b[?25hdone\n",
            "Requirement already satisfied: jax>=0.4.6 in /usr/local/lib/python3.11/dist-packages (from pgx==2.5.9) (0.5.2)\n",
            "Requirement already satisfied: typing_extensions>=4.2.0 in /usr/local/lib/python3.11/dist-packages (from pgx==2.5.9) (4.13.2)\n",
            "Collecting svgwrite (from pgx==2.5.9)\n",
            "  Downloading svgwrite-1.4.3-py3-none-any.whl.metadata (8.8 kB)\n",
            "Requirement already satisfied: jaxlib<=0.5.2,>=0.5.1 in /usr/local/lib/python3.11/dist-packages (from jax>=0.4.6->pgx==2.5.9) (0.5.1)\n",
            "Requirement already satisfied: ml_dtypes>=0.4.0 in /usr/local/lib/python3.11/dist-packages (from jax>=0.4.6->pgx==2.5.9) (0.5.1)\n",
            "Requirement already satisfied: numpy>=1.25 in /usr/local/lib/python3.11/dist-packages (from jax>=0.4.6->pgx==2.5.9) (2.0.2)\n",
            "Requirement already satisfied: opt_einsum in /usr/local/lib/python3.11/dist-packages (from jax>=0.4.6->pgx==2.5.9) (3.4.0)\n",
            "Requirement already satisfied: scipy>=1.11.1 in /usr/local/lib/python3.11/dist-packages (from jax>=0.4.6->pgx==2.5.9) (1.14.1)\n",
            "Downloading svgwrite-1.4.3-py3-none-any.whl (67 kB)\n",
            "Building wheels for collected packages: pgx\n",
            "  Building wheel for pgx (pyproject.toml) ... \u001b[?25l\u001b[?25hdone\n",
            "  Created wheel for pgx: filename=pgx-2.5.9-py3-none-any.whl size=442670 sha256=867d41dbbad7fff14668f08df7374c32e33416af48c02574c3ee14bd26aeb579\n",
            "  Stored in directory: /tmp/pip-ephem-wheel-cache-5h82k0ja/wheels/23/f1/a4/38412c899d2916afb4f25c0877a95bcf7352e544e07e4b70d0\n",
            "Successfully built pgx\n",
            "Installing collected packages: svgwrite, pgx\n",
            "Successfully installed pgx-2.5.9 svgwrite-1.4.3\n"
          ]
        }
      ]
    },
    {
      "cell_type": "code",
      "source": [
        "import pgx\n",
        "print(f\"PGX Version {pgx.__version__}\")"
      ],
      "metadata": {
        "colab": {
          "base_uri": "https://localhost:8080/"
        },
        "id": "yB3nZpVwvtwn",
        "outputId": "2b84d7e0-4415-4a24-a205-628ee10f1e35"
      },
      "execution_count": 1,
      "outputs": [
        {
          "output_type": "stream",
          "name": "stdout",
          "text": [
            "PGX Version 2.5.9\n"
          ]
        }
      ]
    },
    {
      "cell_type": "code",
      "source": [
        "%pip install git+https://github.com/sile16/turbozero.git"
      ],
      "metadata": {
        "colab": {
          "base_uri": "https://localhost:8080/",
          "height": 1000
        },
        "collapsed": true,
        "id": "IHbqqCYlpJUG",
        "outputId": "bbf27ade-8895-4272-c7aa-7e98ba7bb003"
      },
      "execution_count": 2,
      "outputs": [
        {
          "output_type": "stream",
          "name": "stdout",
          "text": [
            "Collecting git+https://github.com/sile16/turbozero.git\n",
            "  Cloning https://github.com/sile16/turbozero.git to /tmp/pip-req-build-o1ddt1z6\n",
            "  Running command git clone --filter=blob:none --quiet https://github.com/sile16/turbozero.git /tmp/pip-req-build-o1ddt1z6\n",
            "  Resolved https://github.com/sile16/turbozero.git to commit c0d1dfd2c67adc953c9363e5691b2714d4bae13f\n",
            "  Installing build dependencies ... \u001b[?25l\u001b[?25hdone\n",
            "  Getting requirements to build wheel ... \u001b[?25l\u001b[?25hdone\n",
            "  Preparing metadata (pyproject.toml) ... \u001b[?25l\u001b[?25hdone\n",
            "Collecting pgx@ git+https://github.com/sile16/pgx.git@master (from turbozero==0.1.2)\n",
            "  Cloning https://github.com/sile16/pgx.git (to revision master) to /tmp/pip-install-yc43ijdy/pgx_f3af9330203147939da19a49ee6fde80\n",
            "  Running command git clone --filter=blob:none --quiet https://github.com/sile16/pgx.git /tmp/pip-install-yc43ijdy/pgx_f3af9330203147939da19a49ee6fde80\n",
            "  Running command git checkout -b master --track origin/master\n",
            "  Switched to a new branch 'master'\n",
            "  Branch 'master' set up to track remote branch 'master' from 'origin'.\n",
            "  Resolved https://github.com/sile16/pgx.git to commit 224c8e556f3f33ad5e4b4d89a56ed85d660b6155\n",
            "  Running command git submodule update --init --recursive -q\n",
            "  Installing build dependencies ... \u001b[?25l\u001b[?25hdone\n",
            "  Getting requirements to build wheel ... \u001b[?25l\u001b[?25hdone\n",
            "  Preparing metadata (pyproject.toml) ... \u001b[?25l\u001b[?25hdone\n",
            "Requirement already satisfied: cairosvg>=2.7.1 in /usr/local/lib/python3.11/dist-packages (from turbozero==0.1.2) (2.7.1)\n",
            "Requirement already satisfied: chex>=0.1.85 in /usr/local/lib/python3.11/dist-packages (from turbozero==0.1.2) (0.1.89)\n",
            "Requirement already satisfied: dm-haiku>=0.0.12 in /usr/local/lib/python3.11/dist-packages (from turbozero==0.1.2) (0.0.14)\n",
            "Requirement already satisfied: flax>=0.10.5 in /usr/local/lib/python3.11/dist-packages (from turbozero==0.1.2) (0.10.5)\n",
            "Requirement already satisfied: graphviz>=0.20.1 in /usr/local/lib/python3.11/dist-packages (from turbozero==0.1.2) (0.20.3)\n",
            "Requirement already satisfied: jax>=0.5.2 in /usr/local/lib/python3.11/dist-packages (from jax[cuda12-pip]>=0.5.2->turbozero==0.1.2) (0.5.2)\n",
            "Requirement already satisfied: jaxlib>=0.5.1 in /usr/local/lib/python3.11/dist-packages (from turbozero==0.1.2) (0.5.1)\n",
            "Requirement already satisfied: matplotlib>=3.10.0 in /usr/local/lib/python3.11/dist-packages (from turbozero==0.1.2) (3.10.1)\n",
            "Requirement already satisfied: numpy>=2.0.2 in /usr/local/lib/python3.11/dist-packages (from turbozero==0.1.2) (2.2.5)\n",
            "Requirement already satisfied: optax>=0.1.8 in /usr/local/lib/python3.11/dist-packages (from turbozero==0.1.2) (0.2.4)\n",
            "Requirement already satisfied: orbax-checkpoint>=0.10.1 in /usr/local/lib/python3.11/dist-packages (from turbozero==0.1.2) (0.11.12)\n",
            "Requirement already satisfied: psutil>=5.9.5 in /usr/local/lib/python3.11/dist-packages (from turbozero==0.1.2) (7.0.0)\n",
            "Requirement already satisfied: tqdm>=4.67.1 in /usr/local/lib/python3.11/dist-packages (from turbozero==0.1.2) (4.67.1)\n",
            "Requirement already satisfied: wandb>=0.18.6 in /usr/local/lib/python3.11/dist-packages (from turbozero==0.1.2) (0.19.10)\n",
            "Requirement already satisfied: cairocffi in /usr/local/lib/python3.11/dist-packages (from cairosvg>=2.7.1->turbozero==0.1.2) (1.7.1)\n",
            "Requirement already satisfied: cssselect2 in /usr/local/lib/python3.11/dist-packages (from cairosvg>=2.7.1->turbozero==0.1.2) (0.8.0)\n",
            "Requirement already satisfied: defusedxml in /usr/local/lib/python3.11/dist-packages (from cairosvg>=2.7.1->turbozero==0.1.2) (0.7.1)\n",
            "Requirement already satisfied: pillow in /usr/local/lib/python3.11/dist-packages (from cairosvg>=2.7.1->turbozero==0.1.2) (11.2.1)\n",
            "Requirement already satisfied: tinycss2 in /usr/local/lib/python3.11/dist-packages (from cairosvg>=2.7.1->turbozero==0.1.2) (1.4.0)\n",
            "Requirement already satisfied: absl-py>=0.9.0 in /usr/local/lib/python3.11/dist-packages (from chex>=0.1.85->turbozero==0.1.2) (1.4.0)\n",
            "Requirement already satisfied: typing_extensions>=4.2.0 in /usr/local/lib/python3.11/dist-packages (from chex>=0.1.85->turbozero==0.1.2) (4.13.2)\n",
            "Requirement already satisfied: toolz>=0.9.0 in /usr/local/lib/python3.11/dist-packages (from chex>=0.1.85->turbozero==0.1.2) (1.0.0)\n",
            "Requirement already satisfied: jmp>=0.0.2 in /usr/local/lib/python3.11/dist-packages (from dm-haiku>=0.0.12->turbozero==0.1.2) (0.0.4)\n",
            "Requirement already satisfied: tabulate>=0.8.9 in /usr/local/lib/python3.11/dist-packages (from dm-haiku>=0.0.12->turbozero==0.1.2) (0.9.0)\n",
            "Requirement already satisfied: msgpack in /usr/local/lib/python3.11/dist-packages (from flax>=0.10.5->turbozero==0.1.2) (1.1.0)\n",
            "Requirement already satisfied: tensorstore in /usr/local/lib/python3.11/dist-packages (from flax>=0.10.5->turbozero==0.1.2) (0.1.73)\n",
            "Requirement already satisfied: rich>=11.1 in /usr/local/lib/python3.11/dist-packages (from flax>=0.10.5->turbozero==0.1.2) (14.0.0)\n",
            "Requirement already satisfied: PyYAML>=5.4.1 in /usr/local/lib/python3.11/dist-packages (from flax>=0.10.5->turbozero==0.1.2) (6.0.2)\n",
            "Requirement already satisfied: treescope>=0.1.7 in /usr/local/lib/python3.11/dist-packages (from flax>=0.10.5->turbozero==0.1.2) (0.1.9)\n",
            "Requirement already satisfied: ml_dtypes>=0.4.0 in /usr/local/lib/python3.11/dist-packages (from jax>=0.5.2->jax[cuda12-pip]>=0.5.2->turbozero==0.1.2) (0.5.1)\n",
            "Requirement already satisfied: opt_einsum in /usr/local/lib/python3.11/dist-packages (from jax>=0.5.2->jax[cuda12-pip]>=0.5.2->turbozero==0.1.2) (3.4.0)\n",
            "Requirement already satisfied: scipy>=1.11.1 in /usr/local/lib/python3.11/dist-packages (from jax>=0.5.2->jax[cuda12-pip]>=0.5.2->turbozero==0.1.2) (1.14.1)\n",
            "Requirement already satisfied: jax-cuda12-plugin<=0.5.2,>=0.5.1 in /usr/local/lib/python3.11/dist-packages (from jax-cuda12-plugin[with_cuda]<=0.5.2,>=0.5.1; extra == \"cuda12-pip\"->jax[cuda12-pip]>=0.5.2->turbozero==0.1.2) (0.5.1)\n",
            "Requirement already satisfied: contourpy>=1.0.1 in /usr/local/lib/python3.11/dist-packages (from matplotlib>=3.10.0->turbozero==0.1.2) (1.3.2)\n",
            "Requirement already satisfied: cycler>=0.10 in /usr/local/lib/python3.11/dist-packages (from matplotlib>=3.10.0->turbozero==0.1.2) (0.12.1)\n",
            "Requirement already satisfied: fonttools>=4.22.0 in /usr/local/lib/python3.11/dist-packages (from matplotlib>=3.10.0->turbozero==0.1.2) (4.57.0)\n",
            "Requirement already satisfied: kiwisolver>=1.3.1 in /usr/local/lib/python3.11/dist-packages (from matplotlib>=3.10.0->turbozero==0.1.2) (1.4.8)\n",
            "Requirement already satisfied: packaging>=20.0 in /usr/local/lib/python3.11/dist-packages (from matplotlib>=3.10.0->turbozero==0.1.2) (24.2)\n",
            "Requirement already satisfied: pyparsing>=2.3.1 in /usr/local/lib/python3.11/dist-packages (from matplotlib>=3.10.0->turbozero==0.1.2) (3.2.3)\n",
            "Requirement already satisfied: python-dateutil>=2.7 in /usr/local/lib/python3.11/dist-packages (from matplotlib>=3.10.0->turbozero==0.1.2) (2.9.0.post0)\n",
            "Requirement already satisfied: etils[epy] in /usr/local/lib/python3.11/dist-packages (from optax>=0.1.8->turbozero==0.1.2) (1.12.2)\n",
            "Requirement already satisfied: nest_asyncio in /usr/local/lib/python3.11/dist-packages (from orbax-checkpoint>=0.10.1->turbozero==0.1.2) (1.6.0)\n",
            "Requirement already satisfied: protobuf in /usr/local/lib/python3.11/dist-packages (from orbax-checkpoint>=0.10.1->turbozero==0.1.2) (5.29.4)\n",
            "Requirement already satisfied: humanize in /usr/local/lib/python3.11/dist-packages (from orbax-checkpoint>=0.10.1->turbozero==0.1.2) (4.12.2)\n",
            "Requirement already satisfied: simplejson>=3.16.0 in /usr/local/lib/python3.11/dist-packages (from orbax-checkpoint>=0.10.1->turbozero==0.1.2) (3.20.1)\n",
            "Requirement already satisfied: click!=8.0.0,>=7.1 in /usr/local/lib/python3.11/dist-packages (from wandb>=0.18.6->turbozero==0.1.2) (8.1.8)\n",
            "Requirement already satisfied: docker-pycreds>=0.4.0 in /usr/local/lib/python3.11/dist-packages (from wandb>=0.18.6->turbozero==0.1.2) (0.4.0)\n",
            "Requirement already satisfied: gitpython!=3.1.29,>=1.0.0 in /usr/local/lib/python3.11/dist-packages (from wandb>=0.18.6->turbozero==0.1.2) (3.1.44)\n",
            "Requirement already satisfied: platformdirs in /usr/local/lib/python3.11/dist-packages (from wandb>=0.18.6->turbozero==0.1.2) (4.3.7)\n",
            "Requirement already satisfied: pydantic<3 in /usr/local/lib/python3.11/dist-packages (from wandb>=0.18.6->turbozero==0.1.2) (2.11.3)\n",
            "Requirement already satisfied: requests<3,>=2.0.0 in /usr/local/lib/python3.11/dist-packages (from wandb>=0.18.6->turbozero==0.1.2) (2.32.3)\n",
            "Requirement already satisfied: sentry-sdk>=2.0.0 in /usr/local/lib/python3.11/dist-packages (from wandb>=0.18.6->turbozero==0.1.2) (2.26.1)\n",
            "Requirement already satisfied: setproctitle in /usr/local/lib/python3.11/dist-packages (from wandb>=0.18.6->turbozero==0.1.2) (1.3.5)\n",
            "Requirement already satisfied: setuptools in /usr/local/lib/python3.11/dist-packages (from wandb>=0.18.6->turbozero==0.1.2) (75.2.0)\n",
            "Requirement already satisfied: svgwrite in /usr/local/lib/python3.11/dist-packages (from pgx@ git+https://github.com/sile16/pgx.git@master->turbozero==0.1.2) (1.4.3)\n",
            "Requirement already satisfied: six>=1.4.0 in /usr/local/lib/python3.11/dist-packages (from docker-pycreds>=0.4.0->wandb>=0.18.6->turbozero==0.1.2) (1.17.0)\n",
            "Requirement already satisfied: gitdb<5,>=4.0.1 in /usr/local/lib/python3.11/dist-packages (from gitpython!=3.1.29,>=1.0.0->wandb>=0.18.6->turbozero==0.1.2) (4.0.12)\n",
            "Requirement already satisfied: jax-cuda12-pjrt==0.5.1 in /usr/local/lib/python3.11/dist-packages (from jax-cuda12-plugin<=0.5.2,>=0.5.1->jax-cuda12-plugin[with_cuda]<=0.5.2,>=0.5.1; extra == \"cuda12-pip\"->jax[cuda12-pip]>=0.5.2->turbozero==0.1.2) (0.5.1)\n",
            "Requirement already satisfied: nvidia-cublas-cu12>=12.1.3.1 in /usr/local/lib/python3.11/dist-packages (from jax-cuda12-plugin[with_cuda]<=0.5.2,>=0.5.1; extra == \"cuda12-pip\"->jax[cuda12-pip]>=0.5.2->turbozero==0.1.2) (12.8.4.1)\n",
            "Requirement already satisfied: nvidia-cuda-cupti-cu12>=12.1.105 in /usr/local/lib/python3.11/dist-packages (from jax-cuda12-plugin[with_cuda]<=0.5.2,>=0.5.1; extra == \"cuda12-pip\"->jax[cuda12-pip]>=0.5.2->turbozero==0.1.2) (12.8.90)\n",
            "Requirement already satisfied: nvidia-cuda-nvcc-cu12>=12.6.85 in /usr/local/lib/python3.11/dist-packages (from jax-cuda12-plugin[with_cuda]<=0.5.2,>=0.5.1; extra == \"cuda12-pip\"->jax[cuda12-pip]>=0.5.2->turbozero==0.1.2) (12.8.93)\n",
            "Requirement already satisfied: nvidia-cuda-runtime-cu12>=12.1.105 in /usr/local/lib/python3.11/dist-packages (from jax-cuda12-plugin[with_cuda]<=0.5.2,>=0.5.1; extra == \"cuda12-pip\"->jax[cuda12-pip]>=0.5.2->turbozero==0.1.2) (12.8.90)\n",
            "Requirement already satisfied: nvidia-cudnn-cu12<10.0,>=9.1 in /usr/local/lib/python3.11/dist-packages (from jax-cuda12-plugin[with_cuda]<=0.5.2,>=0.5.1; extra == \"cuda12-pip\"->jax[cuda12-pip]>=0.5.2->turbozero==0.1.2) (9.8.0.87)\n",
            "Requirement already satisfied: nvidia-cufft-cu12>=11.0.2.54 in /usr/local/lib/python3.11/dist-packages (from jax-cuda12-plugin[with_cuda]<=0.5.2,>=0.5.1; extra == \"cuda12-pip\"->jax[cuda12-pip]>=0.5.2->turbozero==0.1.2) (11.3.3.83)\n",
            "Requirement already satisfied: nvidia-cusolver-cu12>=11.4.5.107 in /usr/local/lib/python3.11/dist-packages (from jax-cuda12-plugin[with_cuda]<=0.5.2,>=0.5.1; extra == \"cuda12-pip\"->jax[cuda12-pip]>=0.5.2->turbozero==0.1.2) (11.7.3.90)\n",
            "Requirement already satisfied: nvidia-cusparse-cu12>=12.1.0.106 in /usr/local/lib/python3.11/dist-packages (from jax-cuda12-plugin[with_cuda]<=0.5.2,>=0.5.1; extra == \"cuda12-pip\"->jax[cuda12-pip]>=0.5.2->turbozero==0.1.2) (12.5.8.93)\n",
            "Requirement already satisfied: nvidia-nccl-cu12>=2.18.1 in /usr/local/lib/python3.11/dist-packages (from jax-cuda12-plugin[with_cuda]<=0.5.2,>=0.5.1; extra == \"cuda12-pip\"->jax[cuda12-pip]>=0.5.2->turbozero==0.1.2) (2.26.2.post1)\n",
            "Requirement already satisfied: nvidia-nvjitlink-cu12>=12.1.105 in /usr/local/lib/python3.11/dist-packages (from jax-cuda12-plugin[with_cuda]<=0.5.2,>=0.5.1; extra == \"cuda12-pip\"->jax[cuda12-pip]>=0.5.2->turbozero==0.1.2) (12.8.93)\n",
            "Requirement already satisfied: annotated-types>=0.6.0 in /usr/local/lib/python3.11/dist-packages (from pydantic<3->wandb>=0.18.6->turbozero==0.1.2) (0.7.0)\n",
            "Requirement already satisfied: pydantic-core==2.33.1 in /usr/local/lib/python3.11/dist-packages (from pydantic<3->wandb>=0.18.6->turbozero==0.1.2) (2.33.1)\n",
            "Requirement already satisfied: typing-inspection>=0.4.0 in /usr/local/lib/python3.11/dist-packages (from pydantic<3->wandb>=0.18.6->turbozero==0.1.2) (0.4.0)\n",
            "Requirement already satisfied: charset-normalizer<4,>=2 in /usr/local/lib/python3.11/dist-packages (from requests<3,>=2.0.0->wandb>=0.18.6->turbozero==0.1.2) (3.4.1)\n",
            "Requirement already satisfied: idna<4,>=2.5 in /usr/local/lib/python3.11/dist-packages (from requests<3,>=2.0.0->wandb>=0.18.6->turbozero==0.1.2) (3.10)\n",
            "Requirement already satisfied: urllib3<3,>=1.21.1 in /usr/local/lib/python3.11/dist-packages (from requests<3,>=2.0.0->wandb>=0.18.6->turbozero==0.1.2) (2.3.0)\n",
            "Requirement already satisfied: certifi>=2017.4.17 in /usr/local/lib/python3.11/dist-packages (from requests<3,>=2.0.0->wandb>=0.18.6->turbozero==0.1.2) (2025.1.31)\n",
            "Requirement already satisfied: markdown-it-py>=2.2.0 in /usr/local/lib/python3.11/dist-packages (from rich>=11.1->flax>=0.10.5->turbozero==0.1.2) (3.0.0)\n",
            "Requirement already satisfied: pygments<3.0.0,>=2.13.0 in /usr/local/lib/python3.11/dist-packages (from rich>=11.1->flax>=0.10.5->turbozero==0.1.2) (2.19.1)\n",
            "Requirement already satisfied: cffi>=1.1.0 in /usr/local/lib/python3.11/dist-packages (from cairocffi->cairosvg>=2.7.1->turbozero==0.1.2) (1.17.1)\n",
            "Requirement already satisfied: webencodings in /usr/local/lib/python3.11/dist-packages (from cssselect2->cairosvg>=2.7.1->turbozero==0.1.2) (0.5.1)\n",
            "Requirement already satisfied: fsspec in /usr/local/lib/python3.11/dist-packages (from etils[epath,epy]->orbax-checkpoint>=0.10.1->turbozero==0.1.2) (2025.3.2)\n",
            "Requirement already satisfied: importlib_resources in /usr/local/lib/python3.11/dist-packages (from etils[epath,epy]->orbax-checkpoint>=0.10.1->turbozero==0.1.2) (6.5.2)\n",
            "Requirement already satisfied: zipp in /usr/local/lib/python3.11/dist-packages (from etils[epath,epy]->orbax-checkpoint>=0.10.1->turbozero==0.1.2) (3.21.0)\n",
            "Requirement already satisfied: pycparser in /usr/local/lib/python3.11/dist-packages (from cffi>=1.1.0->cairocffi->cairosvg>=2.7.1->turbozero==0.1.2) (2.22)\n",
            "Requirement already satisfied: smmap<6,>=3.0.1 in /usr/local/lib/python3.11/dist-packages (from gitdb<5,>=4.0.1->gitpython!=3.1.29,>=1.0.0->wandb>=0.18.6->turbozero==0.1.2) (5.0.2)\n",
            "Requirement already satisfied: mdurl~=0.1 in /usr/local/lib/python3.11/dist-packages (from markdown-it-py>=2.2.0->rich>=11.1->flax>=0.10.5->turbozero==0.1.2) (0.1.2)\n",
            "Building wheels for collected packages: pgx\n",
            "  Building wheel for pgx (pyproject.toml) ... \u001b[?25l\u001b[?25hdone\n",
            "  Created wheel for pgx: filename=pgx-2.5.9-py3-none-any.whl size=442670 sha256=ce535a7a34422f34423850f00e2f93565c5cf8955240d3d7ec9828115c84ac02\n",
            "  Stored in directory: /tmp/pip-ephem-wheel-cache-na7uhntc/wheels/23/f1/a4/38412c899d2916afb4f25c0877a95bcf7352e544e07e4b70d0\n",
            "Successfully built pgx\n",
            "Installing collected packages: pgx\n",
            "  Attempting uninstall: pgx\n",
            "    Found existing installation: pgx 2.5.0\n",
            "    Uninstalling pgx-2.5.0:\n",
            "      Successfully uninstalled pgx-2.5.0\n",
            "Successfully installed pgx-2.5.9\n"
          ]
        },
        {
          "output_type": "display_data",
          "data": {
            "application/vnd.colab-display-data+json": {
              "pip_warning": {
                "packages": [
                  "pgx"
                ]
              },
              "id": "a4d61d157c594fe89b3472b8e62d44b8"
            }
          },
          "metadata": {}
        }
      ]
    },
    {
      "cell_type": "code",
      "source": [
        "import jax\n",
        "print(\"Jax Version: \",jax.__version__)\n",
        "#jax.config.update('jax_platform_name', 'gpu')\n",
        "from jax.lib import xla_bridge\n",
        "from prompt_toolkit import HTML\n",
        "print(\"Default backend:\", jax.default_backend())\n",
        "\n",
        "import pgx\n",
        "import pgx.backgammon as bg\n",
        "\n",
        "print(f\"Jax Version {jax.__version__}\")\n",
        "\n",
        "\n",
        "env = bg.Backgammon(simple_doubles=True)\n",
        "print(env.simple_doubles)\n",
        "print(env.num_actions)\n",
        "print(env.stochastic_action_probs)\n",
        "\n",
        "# create key\n",
        "key = jax.random.PRNGKey(0)\n",
        "state = env.init(key)\n",
        "from IPython.display import HTML\n",
        "display(HTML(state.to_svg()))\n",
        "\n",
        "\n",
        "\n"
      ],
      "metadata": {
        "colab": {
          "base_uri": "https://localhost:8080/",
          "height": 503
        },
        "id": "8jOXiravr9u2",
        "outputId": "52b2399d-71d6-41e1-f6fb-b2d8cac615f9"
      },
      "execution_count": 2,
      "outputs": [
        {
          "output_type": "stream",
          "name": "stdout",
          "text": [
            "Jax Version:  0.5.2\n",
            "Default backend: tpu\n",
            "Jax Version 0.5.2\n",
            "True\n",
            "156\n",
            "[0.16666667 0.16666667 0.16666667 0.16666667 0.16666667 0.16666667]\n"
          ]
        },
        {
          "output_type": "display_data",
          "data": {
            "text/plain": [
              "<IPython.core.display.HTML object>"
            ],
            "text/html": [
              "<svg baseProfile=\"full\" height=\"375.0\" version=\"1.1\" width=\"450.0\" xmlns=\"http://www.w3.org/2000/svg\" xmlns:ev=\"http://www.w3.org/2001/xml-events\" xmlns:xlink=\"http://www.w3.org/1999/xlink\"><defs /><rect fill=\"white\" height=\"425\" width=\"575\" x=\"0\" y=\"0\" /><g transform=\"scale(1.0)\"><rect fill=\"white\" height=\"375\" width=\"450\" x=\"0\" y=\"0\" /><g transform=\"translate(12.5,12.5)\"><polygon fill=\"white\" points=\"0,0 25,0 12.5,150\" stroke=\"gray\" /><polygon fill=\"gray\" points=\"25,0 50,0 37.5,150\" stroke=\"gray\" /><polygon fill=\"white\" points=\"50,0 75,0 62.5,150\" stroke=\"gray\" /><polygon fill=\"gray\" points=\"75,0 100,0 87.5,150\" stroke=\"gray\" /><polygon fill=\"white\" points=\"100,0 125,0 112.5,150\" stroke=\"gray\" /><polygon fill=\"gray\" points=\"125,0 150,0 137.5,150\" stroke=\"gray\" /><polygon fill=\"white\" points=\"175,0 200,0 187.5,150\" stroke=\"gray\" /><polygon fill=\"gray\" points=\"200,0 225,0 212.5,150\" stroke=\"gray\" /><polygon fill=\"white\" points=\"225,0 250,0 237.5,150\" stroke=\"gray\" /><polygon fill=\"gray\" points=\"250,0 275,0 262.5,150\" stroke=\"gray\" /><polygon fill=\"white\" points=\"275,0 300,0 287.5,150\" stroke=\"gray\" /><polygon fill=\"gray\" points=\"300,0 325,0 312.5,150\" stroke=\"gray\" /><polygon fill=\"gray\" points=\"0,350 25,350 12.5,200\" stroke=\"gray\" /><polygon fill=\"white\" points=\"25,350 50,350 37.5,200\" stroke=\"gray\" /><polygon fill=\"gray\" points=\"50,350 75,350 62.5,200\" stroke=\"gray\" /><polygon fill=\"white\" points=\"75,350 100,350 87.5,200\" stroke=\"gray\" /><polygon fill=\"gray\" points=\"100,350 125,350 112.5,200\" stroke=\"gray\" /><polygon fill=\"white\" points=\"125,350 150,350 137.5,200\" stroke=\"gray\" /><polygon fill=\"gray\" points=\"175,350 200,350 187.5,200\" stroke=\"gray\" /><polygon fill=\"white\" points=\"200,350 225,350 212.5,200\" stroke=\"gray\" /><polygon fill=\"gray\" points=\"225,350 250,350 237.5,200\" stroke=\"gray\" /><polygon fill=\"white\" points=\"250,350 275,350 262.5,200\" stroke=\"gray\" /><polygon fill=\"gray\" points=\"275,350 300,350 287.5,200\" stroke=\"gray\" /><polygon fill=\"white\" points=\"300,350 325,350 312.5,200\" stroke=\"gray\" /><rect fill=\"none\" height=\"350\" stroke=\"black\" width=\"325\" x=\"0\" y=\"0\" /><rect fill=\"none\" height=\"350\" stroke=\"black\" width=\"25\" x=\"150\" y=\"0\" /><circle cx=\"312.5\" cy=\"337.5\" fill=\"black\" r=\"12.5\" stroke=\"black\" /><circle cx=\"312.5\" cy=\"312.5\" fill=\"black\" r=\"12.5\" stroke=\"black\" /><circle cx=\"187.5\" cy=\"337.5\" fill=\"white\" r=\"12.5\" stroke=\"black\" /><circle cx=\"187.5\" cy=\"312.5\" fill=\"white\" r=\"12.5\" stroke=\"black\" /><circle cx=\"187.5\" cy=\"287.5\" fill=\"white\" r=\"12.5\" stroke=\"black\" /><circle cx=\"187.5\" cy=\"262.5\" fill=\"white\" r=\"12.5\" stroke=\"black\" /><circle cx=\"187.5\" cy=\"237.5\" fill=\"white\" r=\"12.5\" stroke=\"black\" /><circle cx=\"112.5\" cy=\"337.5\" fill=\"white\" r=\"12.5\" stroke=\"black\" /><circle cx=\"112.5\" cy=\"312.5\" fill=\"white\" r=\"12.5\" stroke=\"black\" /><circle cx=\"112.5\" cy=\"287.5\" fill=\"white\" r=\"12.5\" stroke=\"black\" /><circle cx=\"12.5\" cy=\"337.5\" fill=\"black\" r=\"12.5\" stroke=\"black\" /><circle cx=\"12.5\" cy=\"312.5\" fill=\"black\" r=\"12.5\" stroke=\"black\" /><circle cx=\"12.5\" cy=\"287.5\" fill=\"black\" r=\"12.5\" stroke=\"black\" /><circle cx=\"12.5\" cy=\"262.5\" fill=\"black\" r=\"12.5\" stroke=\"black\" /><circle cx=\"12.5\" cy=\"237.5\" fill=\"black\" r=\"12.5\" stroke=\"black\" /><circle cx=\"12.5\" cy=\"12.5\" fill=\"white\" r=\"12.5\" stroke=\"black\" /><circle cx=\"12.5\" cy=\"37.5\" fill=\"white\" r=\"12.5\" stroke=\"black\" /><circle cx=\"12.5\" cy=\"62.5\" fill=\"white\" r=\"12.5\" stroke=\"black\" /><circle cx=\"12.5\" cy=\"87.5\" fill=\"white\" r=\"12.5\" stroke=\"black\" /><circle cx=\"12.5\" cy=\"112.5\" fill=\"white\" r=\"12.5\" stroke=\"black\" /><circle cx=\"112.5\" cy=\"12.5\" fill=\"black\" r=\"12.5\" stroke=\"black\" /><circle cx=\"112.5\" cy=\"37.5\" fill=\"black\" r=\"12.5\" stroke=\"black\" /><circle cx=\"112.5\" cy=\"62.5\" fill=\"black\" r=\"12.5\" stroke=\"black\" /><circle cx=\"187.5\" cy=\"12.5\" fill=\"black\" r=\"12.5\" stroke=\"black\" /><circle cx=\"187.5\" cy=\"37.5\" fill=\"black\" r=\"12.5\" stroke=\"black\" /><circle cx=\"187.5\" cy=\"62.5\" fill=\"black\" r=\"12.5\" stroke=\"black\" /><circle cx=\"187.5\" cy=\"87.5\" fill=\"black\" r=\"12.5\" stroke=\"black\" /><circle cx=\"187.5\" cy=\"112.5\" fill=\"black\" r=\"12.5\" stroke=\"black\" /><circle cx=\"312.5\" cy=\"12.5\" fill=\"white\" r=\"12.5\" stroke=\"black\" /><circle cx=\"312.5\" cy=\"37.5\" fill=\"white\" r=\"12.5\" stroke=\"black\" /><rect fill=\"white\" height=\"50\" stroke=\"black\" width=\"100\" x=\"325\" y=\"0\" /><circle cx=\"350\" cy=\"25\" fill=\"black\" r=\"12.5\" stroke=\"black\" /><text fill=\"black\" font-family=\"serif\" font-size=\"34px\" x=\"365.0\" y=\"35.0\">×0</text><rect fill=\"white\" height=\"50\" stroke=\"black\" width=\"100\" x=\"325\" y=\"300\" /><circle cx=\"350\" cy=\"325\" fill=\"white\" r=\"12.5\" stroke=\"black\" /><text fill=\"black\" font-family=\"serif\" font-size=\"34px\" x=\"365.0\" y=\"335.0\">×0</text><text fill=\"black\" font-family=\"sans serif\" font-size=\"44px\" x=\"337.5\" y=\"187.5\">⚀</text><text fill=\"black\" font-family=\"sans serif\" font-size=\"44px\" x=\"370.0\" y=\"187.5\">⚃</text></g></g></svg>"
            ]
          },
          "metadata": {}
        }
      ]
    },
    {
      "cell_type": "markdown",
      "source": [],
      "metadata": {
        "id": "7W7bQsPGryIc"
      }
    },
    {
      "cell_type": "code",
      "source": [
        "from core.types import StepMetadata\n",
        "%psource StepMetadata"
      ],
      "metadata": {
        "id": "uh-PeXqD238R"
      },
      "execution_count": 3,
      "outputs": []
    },
    {
      "cell_type": "code",
      "source": [
        "import chex\n",
        "from typing import Tuple\n",
        "\n",
        "def step_fn(state: bg.State, action: int, key: chex.PRNGKey) -> Tuple[bg.State, StepMetadata]:\n",
        "    \"\"\"Combined step function for backgammon environment that handles both deterministic and stochastic actions.\"\"\"\n",
        "    # print(f\"[DEBUG-BG_STEP-{time.time()}] Called with state (stochastic={state.is_stochastic}), action={action}\") # Optional debug\n",
        "\n",
        "    # Handle stochastic vs deterministic branches\n",
        "    def stochastic_branch(operand):\n",
        "        s, a, _ = operand # state, action, key (key ignored for stochastic step)\n",
        "        # Use env instance captured by closure (assuming env is accessible in this scope)\n",
        "        return env.stochastic_step(s, a)\n",
        "\n",
        "    def deterministic_branch(operand):\n",
        "        s, a, k = operand # state, action, key\n",
        "        # Use env instance captured by closure\n",
        "        return env.step(s, a, k)\n",
        "\n",
        "    # Use conditional to route to the appropriate branch\n",
        "    # The key is only needed for the deterministic branch\n",
        "    new_state = jax.lax.cond(\n",
        "        state.is_stochastic,\n",
        "        stochastic_branch,\n",
        "        deterministic_branch,\n",
        "        (state, action, key) # Pass all required operands\n",
        "    )\n",
        "\n",
        "    # Create standard metadata\n",
        "    metadata = StepMetadata(\n",
        "        rewards=new_state.rewards,\n",
        "        action_mask=new_state.legal_action_mask,\n",
        "        terminated=new_state.terminated,\n",
        "        cur_player_id=new_state.current_player,\n",
        "        step=new_state._step_count\n",
        "    )\n",
        "\n",
        "    return new_state, metadata"
      ],
      "metadata": {
        "id": "sUQbfbgh24SM"
      },
      "execution_count": 4,
      "outputs": []
    },
    {
      "cell_type": "code",
      "source": [
        "def init_fn(key):\n",
        "    \"\"\"Initializes a new environment state.\"\"\"\n",
        "    state = env.init(key)\n",
        "    # No need to force non-stochastic, let the environment handle it\n",
        "    return state, StepMetadata(\n",
        "        rewards=state.rewards,\n",
        "        action_mask=state.legal_action_mask,\n",
        "        terminated=state.terminated,\n",
        "        cur_player_id=state.current_player,\n",
        "        step=state._step_count\n",
        "    )"
      ],
      "metadata": {
        "id": "5uCAYJjP2-7J"
      },
      "execution_count": 6,
      "outputs": []
    },
    {
      "cell_type": "code",
      "source": [
        "import jax\n",
        "import jax.numpy as jnp\n",
        "import flax.linen as nn\n",
        "\n",
        "# Define a dense residual block for vector inputs.\n",
        "class ResidualDenseBlock(nn.Module):\n",
        "    features: int\n",
        "\n",
        "    @nn.compact\n",
        "    def __call__(self, x):\n",
        "        residual = x\n",
        "        x = nn.Dense(self.features)(x)\n",
        "        x = nn.LayerNorm()(x)\n",
        "        x = nn.relu(x)\n",
        "        x = nn.Dense(self.features)(x)\n",
        "        x = nn.LayerNorm()(x)\n",
        "        return nn.relu(x + residual)\n",
        "\n",
        "# Updated ResNet-style network that accepts a 'train' keyword.\n",
        "class ResNetTurboZero(nn.Module):\n",
        "    num_actions: int       # e.g. 6 for our simplified backgammon\n",
        "    num_hidden: int = 128  # Hidden layer dimension\n",
        "    num_blocks: int = 2    # Number of residual blocks\n",
        "\n",
        "    @nn.compact\n",
        "    def __call__(self, x, train: bool = False):\n",
        "        # Initial projection.\n",
        "        x = nn.Dense(self.num_hidden)(x)\n",
        "        x = nn.LayerNorm()(x)\n",
        "        x = nn.relu(x)\n",
        "\n",
        "        # Process through a series of residual blocks.\n",
        "        for _ in range(self.num_blocks):\n",
        "            x = ResidualDenseBlock(self.num_hidden)(x)\n",
        "\n",
        "        # Policy head: project features to logits over possible actions.\n",
        "        policy_logits = nn.Dense(self.num_actions)(x)\n",
        "\n",
        "        # Value head: project features to a single scalar.\n",
        "        value = nn.Dense(1)(x)\n",
        "        value = jnp.squeeze(value, axis=-1)\n",
        "        return policy_logits, value\n",
        "\n",
        "\n",
        "resnet_model = ResNetTurboZero(env.num_actions, num_hidden=128, num_blocks=2)"
      ],
      "metadata": {
        "id": "bHQOdA793BxX"
      },
      "execution_count": 7,
      "outputs": []
    },
    {
      "cell_type": "code",
      "source": [
        "def state_to_nn_input(state):\n",
        "    return state.observation"
      ],
      "metadata": {
        "id": "Jrk63m3f3IWK"
      },
      "execution_count": 8,
      "outputs": []
    },
    {
      "cell_type": "code",
      "source": [
        "from core.evaluators.evaluation_fns import make_nn_eval_fn\n",
        "from core.evaluators.mcts.action_selection import PUCTSelector\n",
        "from core.evaluators.mcts.stochastic_mcts import StochasticMCTS\n",
        "import jax.numpy as jnp\n",
        "\n",
        "# Training evaluator: StochasticMCTS using NN\n",
        "evaluator = StochasticMCTS(   #Explores new moves\n",
        "    eval_fn=make_nn_eval_fn(resnet_model, state_to_nn_input),\n",
        "    stochastic_action_probs=env.stochastic_action_probs,\n",
        "    num_iterations=300,\n",
        "    max_nodes=500,\n",
        "    branching_factor=env.num_actions,\n",
        "    action_selector=PUCTSelector(),\n",
        "    temperature=1.0,\n",
        ")"
      ],
      "metadata": {
        "id": "-I5lO_x03Pfc"
      },
      "execution_count": 9,
      "outputs": []
    },
    {
      "cell_type": "code",
      "source": [
        "evaluator_test = StochasticMCTS(   #Use optimized moves, temperature=0.0\n",
        "    eval_fn=make_nn_eval_fn(resnet_model, state_to_nn_input),\n",
        "    stochastic_action_probs=env.stochastic_action_probs,\n",
        "    num_iterations=300,  # Very few iterations\n",
        "    max_nodes=500,      # Very small tree\n",
        "    branching_factor=env.num_actions,\n",
        "    action_selector=PUCTSelector(),\n",
        "    temperature=0.0,\n",
        ")"
      ],
      "metadata": {
        "id": "aWZzaWvR3WoJ"
      },
      "execution_count": 10,
      "outputs": []
    },
    {
      "cell_type": "code",
      "source": [
        "from core.evaluators.evaluation_fns import make_nn_eval_fn_no_params_callable\n",
        "import chex\n",
        "\n",
        "# --- Pip Count Eval Fn (for test evaluator) ---\n",
        "def backgammon_pip_count_eval(state: chex.ArrayTree, params: chex.ArrayTree, key: chex.PRNGKey):\n",
        "    \"\"\"Calculates value based on pip count difference. Ignores params/key.\n",
        "    The boar is always from the current players perspective,\n",
        "    current player is postivie numbers opponent is negative \"\"\"\n",
        "    board = state._board\n",
        "    pips = state._board[1:25]\n",
        "\n",
        "    born_off_current = board[26] * 30\n",
        "    born_off_opponent = board[27] * 30\n",
        "\n",
        "    #ignore bar, basically 0 points per pip on bar\n",
        "    point_map = jnp.arange(1, 25, dtype=jnp.int32)\n",
        "\n",
        "    value = jnp.sum(pips * point_map) + born_off_current + born_off_opponent\n",
        "\n",
        "    # Uniform policy over legal actions for greedy baseline\n",
        "    policy_logits = jnp.where(state.legal_action_mask, 0.0, -jnp.inf)\n",
        "\n",
        "    return policy_logits, jnp.array(value)\n",
        "\n",
        "\n",
        "# Test evaluator: Regular MCTS using pip count\n",
        "pip_count_mcts_evaluator_test = StochasticMCTS(  # optimizes for moves\n",
        "    eval_fn=backgammon_pip_count_eval, # Use pip count eval fn\n",
        "    stochastic_action_probs=env.stochastic_action_probs,\n",
        "    num_iterations=30, # Give it slightly more iterations maybe\n",
        "    max_nodes=100,\n",
        "    branching_factor=env.num_actions,\n",
        "    action_selector=PUCTSelector(),\n",
        "    temperature=0.0 # Deterministic action selection for testing\n",
        ")"
      ],
      "metadata": {
        "id": "qzo8mbXp3bKM"
      },
      "execution_count": 12,
      "outputs": []
    },
    {
      "cell_type": "code",
      "source": [
        "from core.memory.replay_memory import EpisodeReplayBuffer\n",
        "\n",
        "replay_memory = EpisodeReplayBuffer(capacity=2000)"
      ],
      "metadata": {
        "id": "cUwy12-l3ekK"
      },
      "execution_count": 13,
      "outputs": []
    },
    {
      "cell_type": "code",
      "source": [],
      "metadata": {
        "id": "YY9U4XuS4JjI"
      },
      "execution_count": null,
      "outputs": []
    },
    {
      "cell_type": "markdown",
      "source": [
        "## Trainer Initialization\n",
        "Now that we have all the proper pieces defined, we are ready to initialize a Trainer and start training!\n",
        "\n",
        "The `Trainer` takes many parameters, so let's walk through them all:\n",
        "* `batch_size`: # of parallel environments used to collect self-play games\n",
        "* `train_batch_size`: size of minibatch used during training step\n",
        "* `warmup_steps`: # of steps (per batch) to collect via self-play prior to entering the training loop. This is used to populate the replay memory with some initial samples\n",
        "* `collection_steps_per_epoch`: # of steps (per batch) to collect via self-play per epoch\n",
        "* `train_steps_per_epoch`: # of train steps per epoch\n",
        "* `nn`: neural network (`linen.Module`)\n",
        "* `loss_fn`: loss function used for training, we use a provided default loss which implements the loss function used in the `AlphaZero` paper\n",
        "* `optimizer`: an `optax` optimizer used for training\n",
        "* `evaluator`: the `Evaluator` to use during self-play, we initialized ours using `AlphaZero(MCTS)`\n",
        "* `memory_buffer`: the memory buffer used to store samples from self-play games, we  initialized ours using `EpisodeReplayBuffer`\n",
        "* `max_episode_steps`: maximum number of steps/turns to allow before truncating an episode\n",
        "* `env_step_fn`: environment step function (we defined ours above)\n",
        "* `env_init_fn`: environment init function (we defined ours above)\n",
        "* `state_to_nn_input_fn`: function to convert environment state to nn input (we defined ours above)\n",
        "* `testers`: any number of `Tester`s, used to evaluate a given model and take their own parameters. We'll use the two evaluators defined above to initialize two Testers.\n",
        "* `evaluator_test`: (Optional) Evaluator used within Testers. By default used `evaluator`, but sometimes you may want to test with a larger MCTS iteration budget for example, or a different move sampling temperature\n",
        "* `data_transform_fns`: (optional) list of data transform functions to apply to self-play experiences (e.g. rotation, reflection, etc.)\n",
        "* `extract_model_params_fn`: (Optional) in special cases we need to define how to extract all model parameters from a flax `TrainState`. The default function handles BatchNorm, but if another special-case technique applied across batches is used (e.g. Dropout) we would need to define a function to extract the appropriate parameters. You usually won't need to define this!\n",
        "* `wandb_project_name`: (Optional) Weights and Biases project name. You will be prompted to login if a name is provided. If a name is provided, a run will be initialized and loss and other metrics will be logged to the given wandb project.\n",
        "* `ckpt_dir`: (Optional) directory to store checkpoints in, by default this is set to `/tmp/turbozero_checkpoints`\n",
        "* `max_checkpoints`: (Optional) maximum number of most-recent checkpoints to retain (default: 2)\n",
        "* `num_devices`: (Optional) number of hardware accelerators (GPUs/TPUs) to use. If not given, all available hardware accelerators are used\n",
        "* `wandb_run`: (Optional) continues from an initialized `wandb` run if provided, otherwise a new one is initialized\n",
        "* `extra_wandb_config`: (Optional) any extra metadata to store in the `wandb` run config\n",
        "\n",
        "A training epoch is comprised of M collection steps, followed by N training steps sampling minibatches from replay memory. Optionally, any number of Testers evaluate the current model. At the end of each epoch, a checkpoint is saved.\n",
        "\n",
        "If you are using one or more GPUs (reccommended), TurboZero by default will run on all your available hardware."
      ],
      "metadata": {
        "id": "Z0YilslD4XDw"
      }
    },
    {
      "cell_type": "code",
      "source": [
        "from functools import partial\n",
        "from core.testing.two_player_baseline import TwoPlayerBaseline\n",
        "from core.training.loss_fns import az_default_loss_fn\n",
        "from core.training.stochastic_train import StochasticTrainer\n",
        "from core.training.train import Trainer\n",
        "import optax\n",
        "\n",
        "!export WANDB_NOTEBOOK_NAME=\"turbozero-notebooks\"\n",
        "\n",
        "trainer = StochasticTrainer(\n",
        "    batch_size=64,\n",
        "    train_batch_size=32,\n",
        "    warmup_steps=0,\n",
        "    collection_steps_per_epoch=2048,  # number of steps played in the env per epoch\n",
        "    train_steps_per_epoch=1024,       # Just 2 training step\n",
        "    nn=resnet_model,\n",
        "    loss_fn=partial(az_default_loss_fn, l2_reg_lambda=1e-4),\n",
        "    optimizer=optax.adam(1e-4),\n",
        "    # Use the stochastic evaluator for training\n",
        "    evaluator=evaluator,\n",
        "    memory_buffer=replay_memory,\n",
        "    max_episode_steps=1000,  # should be enough for most games\n",
        "    env_step_fn=step_fn,\n",
        "    env_init_fn=init_fn,\n",
        "    state_to_nn_input_fn=state_to_nn_input,\n",
        "    ckpt_dir = \"/tmp/ckpts\",\n",
        "    testers=[\n",
        "        # Use our custom BackgammonTwoPlayerBaseline\n",
        "        TwoPlayerBaseline(\n",
        "            num_episodes=32,\n",
        "            baseline_evaluator=pip_count_mcts_evaluator_test,\n",
        "            #render_fn=render_fn,\n",
        "            #render_dir='training_eval/pip_count_baseline',\n",
        "            name='pip_count_baseline'\n",
        "        )\n",
        "    ],\n",
        "    # Use the pip count MCTS evaluator for testing\n",
        "    evaluator_test=evaluator_test,\n",
        "    data_transform_fns=[],  # No data transforms as requested\n",
        "    wandb_project_name=None\n",
        ")"
      ],
      "metadata": {
        "colab": {
          "base_uri": "https://localhost:8080/",
          "height": 192
        },
        "id": "s5lIK8kf4YAe",
        "outputId": "2ea3d0a9-8246-4739-8b03-9975c140540c"
      },
      "execution_count": 17,
      "outputs": [
        {
          "output_type": "display_data",
          "data": {
            "text/plain": [
              "<IPython.core.display.HTML object>"
            ],
            "text/html": [
              "Finishing previous runs because reinit is set to 'default'."
            ]
          },
          "metadata": {}
        },
        {
          "output_type": "display_data",
          "data": {
            "text/plain": [
              "<IPython.core.display.HTML object>"
            ],
            "text/html": []
          },
          "metadata": {}
        },
        {
          "output_type": "display_data",
          "data": {
            "text/plain": [
              "<IPython.core.display.HTML object>"
            ],
            "text/html": [
              " View run <strong style=\"color:#cdcd00\">chocolate-moon-1</strong> at: <a href='https://wandb.ai/sile16-self/uncategorized/runs/9zqxmdsv' target=\"_blank\">https://wandb.ai/sile16-self/uncategorized/runs/9zqxmdsv</a><br> View project at: <a href='https://wandb.ai/sile16-self/uncategorized' target=\"_blank\">https://wandb.ai/sile16-self/uncategorized</a><br>Synced 5 W&B file(s), 0 media file(s), 0 artifact file(s) and 0 other file(s)"
            ]
          },
          "metadata": {}
        },
        {
          "output_type": "display_data",
          "data": {
            "text/plain": [
              "<IPython.core.display.HTML object>"
            ],
            "text/html": [
              "Find logs at: <code>./wandb/run-20250423_042440-9zqxmdsv/logs</code>"
            ]
          },
          "metadata": {}
        },
        {
          "output_type": "display_data",
          "data": {
            "text/plain": [
              "<IPython.core.display.HTML object>"
            ],
            "text/html": [
              "Tracking run with wandb version 0.19.10"
            ]
          },
          "metadata": {}
        },
        {
          "output_type": "display_data",
          "data": {
            "text/plain": [
              "<IPython.core.display.HTML object>"
            ],
            "text/html": [
              "Run data is saved locally in <code>/content/wandb/run-20250423_042657-093m4nkz</code>"
            ]
          },
          "metadata": {}
        },
        {
          "output_type": "display_data",
          "data": {
            "text/plain": [
              "<IPython.core.display.HTML object>"
            ],
            "text/html": [
              "Syncing run <strong><a href='https://wandb.ai/sile16-self/uncategorized/runs/093m4nkz' target=\"_blank\">zesty-morning-2</a></strong> to <a href='https://wandb.ai/sile16-self/uncategorized' target=\"_blank\">Weights & Biases</a> (<a href='https://wandb.me/developer-guide' target=\"_blank\">docs</a>)<br>"
            ]
          },
          "metadata": {}
        },
        {
          "output_type": "display_data",
          "data": {
            "text/plain": [
              "<IPython.core.display.HTML object>"
            ],
            "text/html": [
              " View project at <a href='https://wandb.ai/sile16-self/uncategorized' target=\"_blank\">https://wandb.ai/sile16-self/uncategorized</a>"
            ]
          },
          "metadata": {}
        },
        {
          "output_type": "display_data",
          "data": {
            "text/plain": [
              "<IPython.core.display.HTML object>"
            ],
            "text/html": [
              " View run at <a href='https://wandb.ai/sile16-self/uncategorized/runs/093m4nkz' target=\"_blank\">https://wandb.ai/sile16-self/uncategorized/runs/093m4nkz</a>"
            ]
          },
          "metadata": {}
        }
      ]
    },
    {
      "cell_type": "code",
      "source": [
        "output = trainer.train_loop(seed=0, num_epochs=150, eval_every=5)"
      ],
      "metadata": {
        "id": "2NKCXj6V4cQG"
      },
      "execution_count": null,
      "outputs": []
    },
    {
      "cell_type": "code",
      "source": [],
      "metadata": {
        "id": "MkwFUOlM5j55"
      },
      "execution_count": null,
      "outputs": []
    }
  ]
}